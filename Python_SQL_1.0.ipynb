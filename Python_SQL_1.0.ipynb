{
 "cells": [
  {
   "cell_type": "code",
   "execution_count": 1,
   "id": "b4167cb1",
   "metadata": {},
   "outputs": [],
   "source": [
    "# import required modules\n",
    "import mysql.connector\n",
    "from getpass import getpass\n",
    "from mysql.connector import connect, Error\n",
    "import pandas as pd\n",
    "import numpy as np"
   ]
  },
  {
   "cell_type": "code",
   "execution_count": 2,
   "id": "cb414713",
   "metadata": {},
   "outputs": [],
   "source": [
    "hospital = pd.read_csv(\"HospitalCosts.csv\")\n",
    "column_name = list(hospital) #Extracting list of column names \n"
   ]
  },
  {
   "cell_type": "code",
   "execution_count": 3,
   "id": "2600cac5",
   "metadata": {},
   "outputs": [
    {
     "name": "stdout",
     "output_type": "stream",
     "text": [
      "[2, 1, 2, 1, 5, 3]\n"
     ]
    }
   ],
   "source": [
    "def findLength(element):\n",
    "    \"\"\"\n",
    "    Function to return the maximum length of an element in a column\n",
    "    \"\"\"\n",
    "    return len(str(max(hospital[element])))\n",
    "\n",
    "\n",
    "lengths = list(map(findLength,column_name))\n",
    "print(lengths)"
   ]
  },
  {
   "cell_type": "code",
   "execution_count": 4,
   "id": "962e13c5",
   "metadata": {},
   "outputs": [],
   "source": [
    "def findDataTypes(element):\n",
    "    \"\"\"\n",
    "    Function which returns the data type a column of a dataframe\n",
    "    \"\"\"\n",
    "    return type((hospital[element][0]).item())\n",
    "\n",
    "data_types = list(map(findDataTypes,column_name))\n"
   ]
  },
  {
   "cell_type": "code",
   "execution_count": 5,
   "id": "4da06e58",
   "metadata": {},
   "outputs": [
    {
     "data": {
      "text/plain": [
       "[int, int, int, int, int, int]"
      ]
     },
     "execution_count": 5,
     "metadata": {},
     "output_type": "execute_result"
    }
   ],
   "source": [
    "data_types"
   ]
  },
  {
   "cell_type": "code",
   "execution_count": 6,
   "id": "8e89c948",
   "metadata": {},
   "outputs": [
    {
     "data": {
      "text/plain": [
       "{int: 'INTEGER(3)'}"
      ]
     },
     "execution_count": 6,
     "metadata": {},
     "output_type": "execute_result"
    }
   ],
   "source": [
    "sql_data_types ={} # Creating a dictionary for SQL data types related to corresponding python classes \n",
    "\n",
    "for index,val in enumerate(data_types):\n",
    "    if(val==int):\n",
    "        sql_data_types[int]=\"INTEGER(\"+str(lengths[index])+\")\"\n",
    "    if(val==float):\n",
    "        sql_data_types[float]=\"FLOAT(\"+str(lengths[index])+\",2)\"\n",
    "    if(val==str):\n",
    "        sql_data_types[str]=\"VARCHAR(\"+str(lengths[index])+\")\"\n",
    "sql_data_types"
   ]
  },
  {
   "cell_type": "code",
   "execution_count": 7,
   "id": "abfb1942",
   "metadata": {},
   "outputs": [
    {
     "name": "stdout",
     "output_type": "stream",
     "text": [
      "Enter Table name to be created: hospital\n"
     ]
    }
   ],
   "source": [
    "table_name =input(\"Enter Table name to be created: \") #taking table name as input "
   ]
  },
  {
   "cell_type": "code",
   "execution_count": 8,
   "id": "7f73480d",
   "metadata": {},
   "outputs": [],
   "source": [
    "#Creating the column name and data type section of the query\n",
    "column_query=\"\"\n",
    "for index in range(0,len(column_name)):\n",
    "    if(index == (len(column_name)-1)):\n",
    "        column_query = column_query + column_name[index] +\" \"+ sql_data_types[data_types[index]] \n",
    "    else:\n",
    "        column_query = column_query + column_name[index] +\" \"+ sql_data_types[data_types[index]]+ \", \"\n",
    "    "
   ]
  },
  {
   "cell_type": "code",
   "execution_count": 9,
   "id": "f1d464d3",
   "metadata": {},
   "outputs": [],
   "source": [
    "column_query = \"ID INT PRIMARY KEY AUTO_INCREMENT, \"+column_query\n"
   ]
  },
  {
   "cell_type": "code",
   "execution_count": null,
   "id": "34761b87",
   "metadata": {},
   "outputs": [],
   "source": []
  },
  {
   "cell_type": "code",
   "execution_count": null,
   "id": "3ffcd51f",
   "metadata": {},
   "outputs": [],
   "source": []
  },
  {
   "cell_type": "code",
   "execution_count": 10,
   "id": "e1070b42",
   "metadata": {},
   "outputs": [
    {
     "data": {
      "text/plain": [
       "'CREATE TABLE hospital (ID INT PRIMARY KEY AUTO_INCREMENT, AGE INTEGER(3), FEMALE INTEGER(3), LOS INTEGER(3), RACE INTEGER(3), TOTCHG INTEGER(3), APRDRG INTEGER(3));'"
      ]
     },
     "execution_count": 10,
     "metadata": {},
     "output_type": "execute_result"
    }
   ],
   "source": [
    "#Creating query for table creation\n",
    "create_query=\"CREATE TABLE \"+table_name+\" (\"+column_query+\")\"+\";\"\n",
    "create_query"
   ]
  },
  {
   "cell_type": "code",
   "execution_count": 11,
   "id": "31ff12ca",
   "metadata": {},
   "outputs": [],
   "source": [
    "def remove_chars(column_name):\n",
    "    column_name = str(column_name)\n",
    "    column_name = column_name.replace('[','')\n",
    "    column_name = column_name.replace(']','')\n",
    "    column_name = column_name.replace('\\'','')\n",
    "    return column_name "
   ]
  },
  {
   "cell_type": "code",
   "execution_count": 12,
   "id": "be49d069",
   "metadata": {},
   "outputs": [],
   "source": [
    "#Insert data into table\n",
    "def INSERT(table_name,column_name,row_values):\n",
    "    #rem_char = remove_chars(column_name)\n",
    "    insert_query = \"INSERT INTO {} ({}) VALUES ({});\".format(table_name,remove_chars(column_name),row_values)\n",
    "    insert_query = insert_query.replace('[','')\n",
    "    insert_query = insert_query.replace(']','')\n",
    "    return insert_query"
   ]
  },
  {
   "cell_type": "code",
   "execution_count": 13,
   "id": "ab89d994",
   "metadata": {},
   "outputs": [],
   "source": [
    "#create_query(table_name,column_name,row_values)"
   ]
  },
  {
   "cell_type": "code",
   "execution_count": 14,
   "id": "3ba864ef",
   "metadata": {},
   "outputs": [
    {
     "data": {
      "text/plain": [
       "'data =[]\\nfor index in range(0,len(colname)):\\n    data.append(colname[index])\\n    data.append(dt_type[col_type[index]])'"
      ]
     },
     "execution_count": 14,
     "metadata": {},
     "output_type": "execute_result"
    }
   ],
   "source": [
    "'''data =[]\n",
    "for index in range(0,len(colname)):\n",
    "    data.append(colname[index])\n",
    "    data.append(dt_type[col_type[index]])'''\n"
   ]
  },
  {
   "cell_type": "code",
   "execution_count": 15,
   "id": "c8f4c840",
   "metadata": {},
   "outputs": [],
   "source": [
    "def create_connection():\n",
    "    connection = None\n",
    "    try:\n",
    "        connection = mysql.connector.connect(\n",
    "        host = input(\"Enter Hostname: \"),\n",
    "        user = input(\"Enter Username: \"),\n",
    "        passwd = getpass(),\n",
    "        database = input(\"Enter Database: \")                       \n",
    "        )\n",
    "        print(\"Connection to MYSQL DB successful\")\n",
    "    except Error as e:\n",
    "        print(f\"The Error '{e}' ncountered \")\n",
    "    return connection\n"
   ]
  },
  {
   "cell_type": "code",
   "execution_count": 16,
   "id": "45e2d23c",
   "metadata": {},
   "outputs": [
    {
     "name": "stdout",
     "output_type": "stream",
     "text": [
      "Enter Hostname: localhost\n",
      "Enter Username: root\n",
      "········\n",
      "Enter Database: test\n",
      "Connection to MYSQL DB successful\n"
     ]
    }
   ],
   "source": [
    "connection = create_connection()\n"
   ]
  },
  {
   "cell_type": "code",
   "execution_count": 20,
   "id": "ec75ee15",
   "metadata": {},
   "outputs": [],
   "source": [
    "def run_query(connection,query):\n",
    "    cursor=connection.cursor()\n",
    "    cursor.execute(query)\n",
    "    for ele in cursor:\n",
    "        print(ele)\n",
    "    connection.commit()\n",
    "    cursor.close()"
   ]
  },
  {
   "cell_type": "code",
   "execution_count": 21,
   "id": "7b6d1640",
   "metadata": {},
   "outputs": [],
   "source": [
    "run_query(connection,create_query)  "
   ]
  },
  {
   "cell_type": "code",
   "execution_count": 22,
   "id": "7e60c800",
   "metadata": {},
   "outputs": [],
   "source": [
    " \n",
    "#run_query(connection,insert_query)\n",
    "for index in range(0,len(hospital)):\n",
    "    row_values = list(hospital.iloc[index])\n",
    "    insert_query = INSERT(table_name,column_name,row_values)\n",
    "    run_query(connection,insert_query)\n"
   ]
  },
  {
   "cell_type": "code",
   "execution_count": 23,
   "id": "6d5eebf8",
   "metadata": {},
   "outputs": [],
   "source": [
    "def mysql_close(connection):\n",
    "    connection.close()"
   ]
  },
  {
   "cell_type": "code",
   "execution_count": 24,
   "id": "73d3d887",
   "metadata": {},
   "outputs": [],
   "source": [
    "mysql_close(connection)"
   ]
  }
 ],
 "metadata": {
  "kernelspec": {
   "display_name": "Python 3",
   "language": "python",
   "name": "python3"
  },
  "language_info": {
   "codemirror_mode": {
    "name": "ipython",
    "version": 3
   },
   "file_extension": ".py",
   "mimetype": "text/x-python",
   "name": "python",
   "nbconvert_exporter": "python",
   "pygments_lexer": "ipython3",
   "version": "3.8.8"
  }
 },
 "nbformat": 4,
 "nbformat_minor": 5
}
