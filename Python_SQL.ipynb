{
 "cells": [
  {
   "cell_type": "code",
   "execution_count": 1,
   "id": "b4167cb1",
   "metadata": {},
   "outputs": [],
   "source": [
    "# import required modules\n",
    "import mysql.connector\n",
    "from getpass import getpass\n",
    "from mysql.connector import connect, Error\n",
    "import pandas as pd\n",
    "import numpy as np"
   ]
  },
  {
   "cell_type": "code",
   "execution_count": 3,
   "id": "cb414713",
   "metadata": {},
   "outputs": [],
   "source": [
    "hosp = pd.read_csv(\"HospitalCosts.csv\")"
   ]
  },
  {
   "cell_type": "code",
   "execution_count": 4,
   "id": "1e052d8a",
   "metadata": {},
   "outputs": [],
   "source": [
    "colname = list(hosp) #list of column names "
   ]
  },
  {
   "cell_type": "code",
   "execution_count": 5,
   "id": "5760d3c4",
   "metadata": {},
   "outputs": [
    {
     "data": {
      "text/html": [
       "<div>\n",
       "<style scoped>\n",
       "    .dataframe tbody tr th:only-of-type {\n",
       "        vertical-align: middle;\n",
       "    }\n",
       "\n",
       "    .dataframe tbody tr th {\n",
       "        vertical-align: top;\n",
       "    }\n",
       "\n",
       "    .dataframe thead th {\n",
       "        text-align: right;\n",
       "    }\n",
       "</style>\n",
       "<table border=\"1\" class=\"dataframe\">\n",
       "  <thead>\n",
       "    <tr style=\"text-align: right;\">\n",
       "      <th></th>\n",
       "      <th>AGE</th>\n",
       "      <th>FEMALE</th>\n",
       "      <th>LOS</th>\n",
       "      <th>RACE</th>\n",
       "      <th>TOTCHG</th>\n",
       "      <th>APRDRG</th>\n",
       "    </tr>\n",
       "  </thead>\n",
       "  <tbody>\n",
       "    <tr>\n",
       "      <th>0</th>\n",
       "      <td>17</td>\n",
       "      <td>1</td>\n",
       "      <td>2</td>\n",
       "      <td>1.0</td>\n",
       "      <td>2660</td>\n",
       "      <td>560</td>\n",
       "    </tr>\n",
       "    <tr>\n",
       "      <th>1</th>\n",
       "      <td>17</td>\n",
       "      <td>0</td>\n",
       "      <td>2</td>\n",
       "      <td>1.0</td>\n",
       "      <td>1689</td>\n",
       "      <td>753</td>\n",
       "    </tr>\n",
       "    <tr>\n",
       "      <th>2</th>\n",
       "      <td>17</td>\n",
       "      <td>1</td>\n",
       "      <td>7</td>\n",
       "      <td>1.0</td>\n",
       "      <td>20060</td>\n",
       "      <td>930</td>\n",
       "    </tr>\n",
       "    <tr>\n",
       "      <th>3</th>\n",
       "      <td>17</td>\n",
       "      <td>1</td>\n",
       "      <td>1</td>\n",
       "      <td>1.0</td>\n",
       "      <td>736</td>\n",
       "      <td>758</td>\n",
       "    </tr>\n",
       "    <tr>\n",
       "      <th>4</th>\n",
       "      <td>17</td>\n",
       "      <td>1</td>\n",
       "      <td>1</td>\n",
       "      <td>1.0</td>\n",
       "      <td>1194</td>\n",
       "      <td>754</td>\n",
       "    </tr>\n",
       "  </tbody>\n",
       "</table>\n",
       "</div>"
      ],
      "text/plain": [
       "   AGE  FEMALE  LOS  RACE  TOTCHG  APRDRG\n",
       "0   17       1    2   1.0    2660     560\n",
       "1   17       0    2   1.0    1689     753\n",
       "2   17       1    7   1.0   20060     930\n",
       "3   17       1    1   1.0     736     758\n",
       "4   17       1    1   1.0    1194     754"
      ]
     },
     "execution_count": 5,
     "metadata": {},
     "output_type": "execute_result"
    }
   ],
   "source": [
    "hosp.head()"
   ]
  },
  {
   "cell_type": "code",
   "execution_count": 6,
   "id": "ae5be666",
   "metadata": {},
   "outputs": [
    {
     "data": {
      "text/plain": [
       "[2, 1, 2, 3, 5, 3]"
      ]
     },
     "execution_count": 6,
     "metadata": {},
     "output_type": "execute_result"
    }
   ],
   "source": [
    "lengths =[] # maximum length of data in each field\n",
    "for ele in colname:\n",
    "    lengths.append(len(str(max(hosp[ele]))))\n",
    "lengths    "
   ]
  },
  {
   "cell_type": "code",
   "execution_count": 7,
   "id": "7ecf00b5",
   "metadata": {},
   "outputs": [],
   "source": [
    "#saving the data type of the columns/attributes of the dataset in a list\n",
    "col_type = []\n",
    "for ele in colname:\n",
    "    col_type.append(type((hosp[ele][0]).item()))\n",
    "    "
   ]
  },
  {
   "cell_type": "code",
   "execution_count": 71,
   "id": "0ea193df",
   "metadata": {},
   "outputs": [],
   "source": [
    "dt_type ={} # Creating a dictionary for SWL data types related to corresponding python classes \n",
    "\n",
    "for i in range(0,len(col_type)):\n",
    "    if(col_type[i] == int):\n",
    "        dt_type[int]=\"INTEGER(\"+str(lengths[i])+\")\"\n",
    "    if(col_type[i]==float):\n",
    "        dt_type[float]=\"FLOAT(\"+str(lengths[i])+\",2)\"\n",
    "    if(col_type[i] == str):\n",
    "        dt_type[str]=\"VARCHAR(\"+str(lengths[i])+\")\"\n"
   ]
  },
  {
   "cell_type": "code",
   "execution_count": 58,
   "id": "abfb1942",
   "metadata": {},
   "outputs": [
    {
     "name": "stdout",
     "output_type": "stream",
     "text": [
      "Enter Table name to be created: hosp\n"
     ]
    }
   ],
   "source": [
    "tabl_name =input(\"Enter Table name to be created: \") #taking table name as input "
   ]
  },
  {
   "cell_type": "code",
   "execution_count": 66,
   "id": "7f73480d",
   "metadata": {},
   "outputs": [],
   "source": [
    "#Creating the column and data type section of the query\n",
    "l = len(colname) \n",
    "col_list_query=\"\"\n",
    "for index in range(0,l):\n",
    "    if(index == 5):\n",
    "        col_list_query = col_list_query + colname[index] +\" \"+ dt_type[col_type[index]] \n",
    "    else:\n",
    "        col_list_query = col_list_query + colname[index] +\" \"+ dt_type[col_type[index]]+ \", \"\n",
    "    "
   ]
  },
  {
   "cell_type": "code",
   "execution_count": 67,
   "id": "f4bd02c4",
   "metadata": {},
   "outputs": [
    {
     "data": {
      "text/plain": [
       "'ID INT PRIMARY KEY AUTO_INCREMENT, AGE INTEGER(3), FEMALE INTEGER(3), LOS INTEGER(3), RACE FLOAT(3,2), TOTCHG INTEGER(3), APRDRG INTEGER(3)'"
      ]
     },
     "execution_count": 67,
     "metadata": {},
     "output_type": "execute_result"
    }
   ],
   "source": [
    "col_list_query = \"ID INT PRIMARY KEY AUTO_INCREMENT, \"+ col_list_query\n"
   ]
  },
  {
   "cell_type": "code",
   "execution_count": 68,
   "id": "e1070b42",
   "metadata": {},
   "outputs": [
    {
     "data": {
      "text/plain": [
       "'CREATE TABLE hosp (ID INT PRIMARY KEY AUTO_INCREMENT, AGE INTEGER(3), FEMALE INTEGER(3), LOS INTEGER(3), RACE FLOAT(3,2), TOTCHG INTEGER(3), APRDRG INTEGER(3))'"
      ]
     },
     "execution_count": 68,
     "metadata": {},
     "output_type": "execute_result"
    }
   ],
   "source": [
    "#consolidating the query\n",
    "create_query=\"CREATE TABLE \"+tabl_name+\" (\"+col_list_query+\")\"\n"
   ]
  },
  {
   "cell_type": "code",
   "execution_count": 52,
   "id": "3ba864ef",
   "metadata": {},
   "outputs": [],
   "source": [
    "'''data =[]\n",
    "for index in range(0,len(colname)):\n",
    "    data.append(colname[index])\n",
    "    data.append(dt_type[col_type[index]])'''\n"
   ]
  },
  {
   "cell_type": "code",
   "execution_count": 54,
   "id": "c8f4c840",
   "metadata": {},
   "outputs": [],
   "source": [
    "def create_connection():\n",
    "    connection = None\n",
    "    try:\n",
    "        connection = mysql.connector.connect(\n",
    "        host = input(\"Enter Hostname: \"),\n",
    "        user = input(\"Enter Username: \"),\n",
    "        passwd = getpass(),\n",
    "        database = input(\"Enter Database: \")                       \n",
    "        )\n",
    "        print(\"Connection to MYSQL DB successful\")\n",
    "    except Error as e:\n",
    "        print(f\"The Error '{e}' ncountered \")\n",
    "    return connection\n"
   ]
  },
  {
   "cell_type": "code",
   "execution_count": 56,
   "id": "45e2d23c",
   "metadata": {},
   "outputs": [
    {
     "name": "stdout",
     "output_type": "stream",
     "text": [
      "Enter Hostname: localhost\n",
      "Enter Username: root\n",
      "········\n",
      "Enter Database: test\n",
      "Connection to MYSQL DB successful\n"
     ]
    }
   ],
   "source": [
    "connection = create_connection()\n"
   ]
  },
  {
   "cell_type": "code",
   "execution_count": 57,
   "id": "ec75ee15",
   "metadata": {},
   "outputs": [],
   "source": [
    "def run_query(connection,query):\n",
    "    cursor=connection.cursor()\n",
    "    cursor.execute(query)\n",
    "    for ele in cursor:\n",
    "        print(ele)\n",
    "    connection.commit()\n",
    "    cursor.close()"
   ]
  },
  {
   "cell_type": "code",
   "execution_count": 70,
   "id": "7e60c800",
   "metadata": {},
   "outputs": [],
   "source": [
    "\n",
    "#connection = create_connection()\n",
    "run_query(connection,create_query)"
   ]
  },
  {
   "cell_type": "code",
   "execution_count": null,
   "id": "6d5eebf8",
   "metadata": {},
   "outputs": [],
   "source": [
    "def mysql_close(connection):\n",
    "    connection.close()"
   ]
  },
  {
   "cell_type": "code",
   "execution_count": null,
   "id": "73d3d887",
   "metadata": {},
   "outputs": [],
   "source": [
    "mysql_close(connection)"
   ]
  }
 ],
 "metadata": {
  "kernelspec": {
   "display_name": "Python 3",
   "language": "python",
   "name": "python3"
  },
  "language_info": {
   "codemirror_mode": {
    "name": "ipython",
    "version": 3
   },
   "file_extension": ".py",
   "mimetype": "text/x-python",
   "name": "python",
   "nbconvert_exporter": "python",
   "pygments_lexer": "ipython3",
   "version": "3.8.8"
  }
 },
 "nbformat": 4,
 "nbformat_minor": 5
}
